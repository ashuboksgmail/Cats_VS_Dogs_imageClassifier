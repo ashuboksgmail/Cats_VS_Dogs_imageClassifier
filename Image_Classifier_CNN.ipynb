{
  "cells": [
    {
      "cell_type": "code",
      "source": [
        "import tensorflow as tf\n",
        "import seaborn as sns\n",
        "import numpy as np\n",
        "import zipfile\n",
        "from PIL import Image\n",
        "import glob\n",
        "import os\n",
        "import shutil\n",
        "from collections import defaultdict\n",
        "from tensorflow import keras\n",
        "from tensorflow.keras import layers"
      ],
      "metadata": {
        "id": "3mOBlgJ2sAMx"
      },
      "execution_count": null,
      "outputs": []
    },
    {
      "cell_type": "code",
      "execution_count": null,
      "metadata": {
        "id": "sgjLP6CwJrQW"
      },
      "outputs": [],
      "source": [
        "#Extract data from zip file and create 2 folders for cats and dogs\n",
        "zip_file_path = '/content/drive/MyDrive/Dogs-VS-Cats/train.zip'\n",
        "extracted_folder_path = '/content/drive/MyDrive/Dogs-VS-Cats/trainFolder'\n",
        "\n",
        "with zipfile.ZipFile(zip_file_path, 'r') as zip_ref:\n",
        "    zip_ref.extractall(extracted_folder_path)\n",
        "\n",
        "# Create 'cats' and 'dogs' directories if they don't exist\n",
        "os.makedirs(cats_dir, exist_ok=True)\n",
        "os.makedirs(dogs_dir, exist_ok=True)\n",
        "\n",
        "source_dir = '/content/drive/MyDrive/Dogs-VS-Cats/trainFolder/train'\n",
        "cats_dir = '/content/drive/MyDrive/Dogs-VS-Cats/trainFolder/cats'\n",
        "dogs_dir = '/content/drive/MyDrive/Dogs-VS-Cats/trainFolder/dogs'\n",
        "\n",
        "# Get a list of all image file paths within the source directory\n",
        "image_files = glob.glob(os.path.join(source_dir, '*'))\n",
        "\n",
        "# Move images to their respective folders based on their filename prefix\n",
        "for image_file in image_files:\n",
        "    filename = os.path.basename(image_file)\n",
        "    if filename.startswith('cat'):\n",
        "        shutil.move(image_file, os.path.join(cats_dir, filename))\n",
        "    elif filename.startswith('dog'):\n",
        "        shutil.move(image_file, os.path.join(dogs_dir, filename))\n",
        "\n",
        "print(\"Images moved to respective folders.\")"
      ]
    },
    {
      "cell_type": "code",
      "execution_count": 9,
      "metadata": {
        "colab": {
          "base_uri": "https://localhost:8080/"
        },
        "id": "aCpKf3PyKSjr",
        "outputId": "8ab832a4-d51a-41ce-de74-5122d09e52b1"
      },
      "outputs": [
        {
          "output_type": "execute_result",
          "data": {
            "text/plain": [
              "12500"
            ]
          },
          "metadata": {},
          "execution_count": 9
        }
      ],
      "source": [
        "len(glob.glob('/content/drive/MyDrive/Dogs-VS-Cats/trainFolder/cats/*'))"
      ]
    },
    {
      "cell_type": "code",
      "execution_count": 6,
      "metadata": {
        "id": "6145zBA3Kt8u"
      },
      "outputs": [],
      "source": [
        "#resizing image\n",
        "IMG_SIZE = (94, 125)\n",
        "def pixels_from_path(file_path):\n",
        "    im = Image.open(file_path)\n",
        "\n",
        "    im = im.resize(IMG_SIZE)\n",
        "    np_im = np.array(im)\n",
        "    #matrix of pixel RGB values\n",
        "    return np_im"
      ]
    },
    {
      "cell_type": "code",
      "execution_count": 7,
      "metadata": {
        "colab": {
          "base_uri": "https://localhost:8080/"
        },
        "id": "fTdDIelbLnPA",
        "outputId": "b14752a6-32d3-4ac1-acfe-d71230da886e"
      },
      "outputs": [
        {
          "output_type": "stream",
          "name": "stdout",
          "text": [
            "loading training cat images...\n",
            "loading training dog images...\n"
          ]
        }
      ],
      "source": [
        "#loadind training data\n",
        "SAMPLE_SIZE = 8000\n",
        "print(\"loading training cat images...\")\n",
        "cat_train_set = np.asarray([pixels_from_path(cat) for cat in glob.glob('/content/drive/MyDrive/Dogs-VS-Cats/trainFolder/cats/*')[:SAMPLE_SIZE]])\n",
        "print(\"loading training dog images...\")\n",
        "dog_train_set = np.asarray([pixels_from_path(dog) for dog in glob.glob('/content/drive/MyDrive/Dogs-VS-Cats/trainFolder/dogs/*')[:SAMPLE_SIZE]])"
      ]
    },
    {
      "cell_type": "code",
      "execution_count": 9,
      "metadata": {
        "colab": {
          "base_uri": "https://localhost:8080/"
        },
        "id": "-Lge__3BNz1M",
        "outputId": "2535d7fa-27e6-49ca-b8b5-5f945e16e0da"
      },
      "outputs": [
        {
          "output_type": "stream",
          "name": "stdout",
          "text": [
            "loading validation cat images...\n",
            "loading validation dog images...\n"
          ]
        }
      ],
      "source": [
        "valid_size = 1400\n",
        "print(\"loading validation cat images...\")\n",
        "cat_valid_set = np.asarray([pixels_from_path(cat) for cat in glob.glob('/content/drive/MyDrive/Dogs-VS-Cats/trainFolder/cats/*')[-valid_size:]])\n",
        "print(\"loading validation dog images...\")\n",
        "dog_valid_set = np.asarray([pixels_from_path(dog) for dog in glob.glob('/content/drive/MyDrive/Dogs-VS-Cats/trainFolder/dogs/*')[-valid_size:]])"
      ]
    },
    {
      "cell_type": "code",
      "source": [],
      "metadata": {
        "id": "bPaPXdqsVSi2"
      },
      "execution_count": null,
      "outputs": []
    },
    {
      "cell_type": "code",
      "execution_count": 10,
      "metadata": {
        "id": "XJQvICEkOAoL"
      },
      "outputs": [],
      "source": [
        "x_train = np.concatenate([cat_train_set, dog_train_set])\n",
        "labels_train = np.asarray([1 for _ in range(SAMPLE_SIZE)]+[0 for _ in range(SAMPLE_SIZE)])"
      ]
    },
    {
      "cell_type": "code",
      "execution_count": 11,
      "metadata": {
        "id": "q3zV7SUhOCBe"
      },
      "outputs": [],
      "source": [
        "x_valid = np.concatenate([cat_valid_set, dog_valid_set])\n",
        "labels_valid = np.asarray([1 for _ in range(valid_size)]+[0 for _ in range(valid_size)])"
      ]
    },
    {
      "cell_type": "markdown",
      "source": [],
      "metadata": {
        "id": "nJxljlDyVUBU"
      }
    },
    {
      "cell_type": "code",
      "execution_count": null,
      "metadata": {
        "id": "hNgL1T2JOEq0"
      },
      "outputs": [],
      "source": [
        "#single hidden fully connected neural network\n",
        "from tensorflow import keras\n",
        "from tensorflow.keras import layers\n",
        "\n",
        "total_pixels = IMG_SIZE[0] *IMG_SIZE[1] * 3\n",
        "fc_size = 512\n",
        "\n",
        "inputs = keras.Input(shape=(IMG_SIZE[1], IMG_SIZE[0],3), name='ani_image')\n",
        "x = layers.Flatten(name = 'flattened_img')(inputs) #turn image to vector.\n",
        "\n",
        "x = layers.Dense(fc_size, activation='relu', name='first_layer')(x)\n",
        "outputs = layers.Dense(1, activation='sigmoid', name='class')(x)\n",
        "\n",
        "model = keras.Model(inputs=inputs, outputs=outputs)"
      ]
    },
    {
      "cell_type": "code",
      "execution_count": null,
      "metadata": {
        "colab": {
          "base_uri": "https://localhost:8080/"
        },
        "id": "wAR0HN6wOK1g",
        "outputId": "2d6fbdcf-fa44-45f8-8af5-caea41baf923"
      },
      "outputs": [
        {
          "name": "stderr",
          "output_type": "stream",
          "text": [
            "WARNING:absl:`lr` is deprecated in Keras optimizer, please use `learning_rate` or use the legacy optimizer, e.g.,tf.keras.optimizers.legacy.Adam.\n"
          ]
        },
        {
          "name": "stdout",
          "output_type": "stream",
          "text": [
            "# Fit model on training data\n",
            "Epoch 1/3\n",
            "500/500 [==============================] - 209s 415ms/step - loss: 0.5001 - binary_crossentropy: 103844.5312 - mean_squared_error: 0.5001 - val_loss: 0.5000 - val_binary_crossentropy: 107066.1484 - val_mean_squared_error: 0.5000\n",
            "Epoch 2/3\n",
            "500/500 [==============================] - 218s 436ms/step - loss: 0.5000 - binary_crossentropy: 106073.5234 - mean_squared_error: 0.5000 - val_loss: 0.5000 - val_binary_crossentropy: 107066.1484 - val_mean_squared_error: 0.5000\n",
            "Epoch 3/3\n",
            "500/500 [==============================] - 218s 435ms/step - loss: 0.5000 - binary_crossentropy: 106073.4922 - mean_squared_error: 0.5000 - val_loss: 0.5000 - val_binary_crossentropy: 107066.1484 - val_mean_squared_error: 0.5000\n"
          ]
        }
      ],
      "source": [
        "customAdam = keras.optimizers.Adam(lr=0.001)\n",
        "model.compile(optimizer=customAdam,  # Optimizer\n",
        "              # Loss function to minimize\n",
        "              loss=\"mean_squared_error\",\n",
        "              # List of metrics to monitor\n",
        "              metrics=[\"binary_crossentropy\",\"mean_squared_error\"])\n",
        "\n",
        "print('# Fit model on training data')\n",
        "\n",
        "history = model.fit(x_train,\n",
        "                    labels_train,\n",
        "                    batch_size=32,\n",
        "                    shuffle = True, #important since we loaded cats first, dogs second.\n",
        "                    epochs=3,\n",
        "                    validation_data=(x_valid, labels_valid))"
      ]
    },
    {
      "cell_type": "code",
      "execution_count": null,
      "metadata": {
        "colab": {
          "base_uri": "https://localhost:8080/"
        },
        "id": "GDOiAxRdqwCr",
        "outputId": "5f7356e5-63d3-4bbd-ca03-b0feedf254a8"
      },
      "outputs": [
        {
          "name": "stderr",
          "output_type": "stream",
          "text": [
            "WARNING:absl:`lr` is deprecated in Keras optimizer, please use `learning_rate` or use the legacy optimizer, e.g.,tf.keras.optimizers.legacy.Adam.\n"
          ]
        }
      ],
      "source": [
        "# Convolutional Neural Network\n",
        "fc_layer_size = 128\n",
        "img_size = IMG_SIZE\n",
        "\n",
        "conv_inputs = keras.Input(shape=(img_size[1], img_size[0],3), name='ani_image')\n",
        "conv_layer = layers.Conv2D(24, kernel_size=3, activation='relu')(conv_inputs)\n",
        "conv_layer = layers.MaxPool2D(pool_size=(2,2))(conv_layer)\n",
        "conv_x = layers.Flatten(name = 'flattened_features')(conv_layer) #turn image to vector.\n",
        "\n",
        "conv_x = layers.Dense(fc_layer_size, activation='relu', name='first_layer')(conv_x)\n",
        "conv_x = layers.Dense(fc_layer_size, activation='relu', name='second_layer')(conv_x)\n",
        "conv_outputs = layers.Dense(1, activation='sigmoid', name='class')(conv_x)\n",
        "\n",
        "conv_model = keras.Model(inputs=conv_inputs, outputs=conv_outputs)\n",
        "\n",
        "customAdam = keras.optimizers.Adam(lr=1e-6)\n",
        "conv_model.compile(optimizer=customAdam,  # Optimizer\n",
        "              # Loss function to minimize\n",
        "              loss=\"binary_crossentropy\",\n",
        "              # List of metrics to monitor\n",
        "              metrics=[\"binary_crossentropy\",\"mean_squared_error\"])"
      ]
    },
    {
      "cell_type": "code",
      "execution_count": null,
      "metadata": {
        "colab": {
          "base_uri": "https://localhost:8080/"
        },
        "id": "4H3nEbZuUona",
        "outputId": "e7ffe053-3b77-446c-e5b2-8d74df209659"
      },
      "outputs": [
        {
          "name": "stdout",
          "output_type": "stream",
          "text": [
            "Epoch 1/3\n",
            "500/500 [==============================] - 214s 426ms/step - loss: 18.6125 - binary_crossentropy: 18.6125 - mean_squared_error: 0.3065 - val_loss: 0.7481 - val_binary_crossentropy: 0.7481 - val_mean_squared_error: 0.2395\n",
            "Epoch 2/3\n",
            "500/500 [==============================] - 207s 414ms/step - loss: 0.5844 - binary_crossentropy: 0.5844 - mean_squared_error: 0.1849 - val_loss: 0.7957 - val_binary_crossentropy: 0.7957 - val_mean_squared_error: 0.2307\n",
            "Epoch 3/3\n",
            "500/500 [==============================] - 206s 412ms/step - loss: 0.4477 - binary_crossentropy: 0.4477 - mean_squared_error: 0.1422 - val_loss: 0.7759 - val_binary_crossentropy: 0.7759 - val_mean_squared_error: 0.2363\n"
          ]
        }
      ],
      "source": [
        "# Fit model on training data\n",
        "history = conv_model.fit(x_train,\n",
        "                    labels_train,\n",
        "                    batch_size=32,\n",
        "                    shuffle = True, #important since we loaded cats first, dogs second.\n",
        "                    epochs=3,\n",
        "                    validation_data=(x_valid, labels_valid))"
      ]
    },
    {
      "cell_type": "code",
      "execution_count": null,
      "metadata": {
        "colab": {
          "base_uri": "https://localhost:8080/"
        },
        "id": "WCix5WIVUuyF",
        "outputId": "00154e41-aad3-45c2-ad7f-461bc6d533f9"
      },
      "outputs": [
        {
          "name": "stdout",
          "output_type": "stream",
          "text": [
            "88/88 [==============================] - 10s 115ms/step\n"
          ]
        },
        {
          "data": {
            "text/plain": [
              "0.36275084278905206"
            ]
          },
          "execution_count": 14,
          "metadata": {},
          "output_type": "execute_result"
        }
      ],
      "source": [
        "preds = conv_model.predict(x_valid)\n",
        "preds = np.asarray([pred[0] for pred in preds])\n",
        "np.corrcoef(preds, labels_valid)[0][1]"
      ]
    },
    {
      "cell_type": "code",
      "execution_count": 57,
      "metadata": {
        "colab": {
          "base_uri": "https://localhost:8080/"
        },
        "id": "N-y58XuPY9D7",
        "outputId": "52e98c14-0378-47c3-9323-21aeab1c035d"
      },
      "outputs": [
        {
          "output_type": "stream",
          "name": "stderr",
          "text": [
            "WARNING:absl:`lr` is deprecated in Keras optimizer, please use `learning_rate` or use the legacy optimizer, e.g.,tf.keras.optimizers.legacy.Adam.\n"
          ]
        }
      ],
      "source": [
        "#Neural network with two convolutional layer\n",
        "fc_layer_size = 256\n",
        "img_size = IMG_SIZE\n",
        "\n",
        "conv_inputs = keras.Input(shape=(img_size[1], img_size[0],3), name='ani_image')\n",
        "#first convolutional layer.\n",
        "conv_layer = layers.Conv2D(48, kernel_size=3, activation='relu')(conv_inputs)\n",
        "conv_layer = layers.MaxPool2D(pool_size=(2,2))(conv_layer)\n",
        "#second convolutional layer.\n",
        "conv_layer = layers.Conv2D(48, kernel_size=3, activation='relu')(conv_layer)\n",
        "conv_layer = layers.MaxPool2D(pool_size=(2,2))(conv_layer)\n",
        "\n",
        "conv_x = layers.Flatten(name = 'flattened_features')(conv_layer) #turn image to vector.\n",
        "\n",
        "conv_x = layers.Dense(fc_layer_size, activation='relu', name='first_layer')(conv_x)\n",
        "conv_x = layers.Dense(fc_layer_size, activation='relu', name='second_layer')(conv_x)\n",
        "conv_outputs = layers.Dense(1, activation='sigmoid', name='class')(conv_x)\n",
        "\n",
        "conv_model = keras.Model(inputs=conv_inputs, outputs=conv_outputs)\n",
        "\n",
        "customAdam = keras.optimizers.Adam(lr=1e-6)\n",
        "conv_model.compile(optimizer=customAdam,  # Optimizer\n",
        "              # Loss function to minimize\n",
        "              loss=\"binary_crossentropy\",\n",
        "              # List of metrics to monitor\n",
        "              metrics=[\"binary_crossentropy\",\"mean_squared_error\"])"
      ]
    },
    {
      "cell_type": "code",
      "execution_count": null,
      "metadata": {
        "colab": {
          "base_uri": "https://localhost:8080/"
        },
        "id": "THH9ZEK7ZBw1",
        "outputId": "d8139289-67eb-427f-d754-f6dbfd864d3f"
      },
      "outputs": [
        {
          "name": "stdout",
          "output_type": "stream",
          "text": [
            "Epoch 1/15\n",
            "500/500 [==============================] - 471s 938ms/step - loss: 3.0679 - binary_crossentropy: 3.0679 - mean_squared_error: 0.2547 - val_loss: 0.6878 - val_binary_crossentropy: 0.6878 - val_mean_squared_error: 0.2460\n",
            "Epoch 2/15\n",
            "500/500 [==============================] - 466s 931ms/step - loss: 0.6543 - binary_crossentropy: 0.6543 - mean_squared_error: 0.2309 - val_loss: 0.6914 - val_binary_crossentropy: 0.6914 - val_mean_squared_error: 0.2451\n",
            "Epoch 3/15\n",
            "500/500 [==============================] - 465s 931ms/step - loss: 0.5759 - binary_crossentropy: 0.5759 - mean_squared_error: 0.1989 - val_loss: 0.7659 - val_binary_crossentropy: 0.7659 - val_mean_squared_error: 0.2537\n",
            "Epoch 4/15\n",
            "500/500 [==============================] - 463s 926ms/step - loss: 0.4733 - binary_crossentropy: 0.4733 - mean_squared_error: 0.1591 - val_loss: 0.8895 - val_binary_crossentropy: 0.8895 - val_mean_squared_error: 0.2729\n",
            "Epoch 5/15\n",
            "500/500 [==============================] - 458s 916ms/step - loss: 0.4109 - binary_crossentropy: 0.4109 - mean_squared_error: 0.1337 - val_loss: 1.0569 - val_binary_crossentropy: 1.0569 - val_mean_squared_error: 0.2885\n",
            "Epoch 6/15\n",
            "500/500 [==============================] - 449s 898ms/step - loss: 0.3858 - binary_crossentropy: 0.3858 - mean_squared_error: 0.1243 - val_loss: 1.0822 - val_binary_crossentropy: 1.0822 - val_mean_squared_error: 0.2850\n",
            "Epoch 7/15\n",
            "500/500 [==============================] - 464s 929ms/step - loss: 0.2666 - binary_crossentropy: 0.2666 - mean_squared_error: 0.0858 - val_loss: 1.4944 - val_binary_crossentropy: 1.4944 - val_mean_squared_error: 0.2973\n",
            "Epoch 8/15\n",
            "500/500 [==============================] - 467s 935ms/step - loss: 0.2237 - binary_crossentropy: 0.2237 - mean_squared_error: 0.0711 - val_loss: 1.5582 - val_binary_crossentropy: 1.5582 - val_mean_squared_error: 0.3097\n",
            "Epoch 9/15\n",
            "500/500 [==============================] - 462s 925ms/step - loss: 0.1951 - binary_crossentropy: 0.1951 - mean_squared_error: 0.0610 - val_loss: 2.0655 - val_binary_crossentropy: 2.0655 - val_mean_squared_error: 0.3432\n",
            "Epoch 10/15\n",
            "500/500 [==============================] - 461s 923ms/step - loss: 0.1783 - binary_crossentropy: 0.1783 - mean_squared_error: 0.0537 - val_loss: 2.0942 - val_binary_crossentropy: 2.0942 - val_mean_squared_error: 0.3313\n",
            "Epoch 11/15\n",
            "500/500 [==============================] - 459s 918ms/step - loss: 0.1461 - binary_crossentropy: 0.1461 - mean_squared_error: 0.0448 - val_loss: 2.3362 - val_binary_crossentropy: 2.3362 - val_mean_squared_error: 0.3414\n",
            "Epoch 12/15\n",
            "500/500 [==============================] - 460s 919ms/step - loss: 0.1466 - binary_crossentropy: 0.1466 - mean_squared_error: 0.0439 - val_loss: 2.4218 - val_binary_crossentropy: 2.4218 - val_mean_squared_error: 0.3379\n",
            "Epoch 13/15\n",
            "500/500 [==============================] - 460s 920ms/step - loss: 0.1241 - binary_crossentropy: 0.1241 - mean_squared_error: 0.0364 - val_loss: 2.7285 - val_binary_crossentropy: 2.7285 - val_mean_squared_error: 0.3492\n",
            "Epoch 14/15\n",
            "500/500 [==============================] - 452s 903ms/step - loss: 0.1278 - binary_crossentropy: 0.1278 - mean_squared_error: 0.0376 - val_loss: 2.4532 - val_binary_crossentropy: 2.4532 - val_mean_squared_error: 0.3489\n",
            "Epoch 15/15\n",
            "500/500 [==============================] - 434s 869ms/step - loss: 0.1077 - binary_crossentropy: 0.1077 - mean_squared_error: 0.0322 - val_loss: 2.6085 - val_binary_crossentropy: 2.6085 - val_mean_squared_error: 0.3564\n"
          ]
        }
      ],
      "source": [
        "history = conv_model.fit(x_train,\n",
        "                    labels_train,\n",
        "                    batch_size=32,\n",
        "                    shuffle = True, #important since we loaded cats first, dogs second.\n",
        "                    epochs=15,\n",
        "                    validation_data=(x_valid, labels_valid))"
      ]
    },
    {
      "cell_type": "code",
      "execution_count": 12,
      "metadata": {
        "id": "cu4m1McIIM6C"
      },
      "outputs": [],
      "source": [
        "#huge convolutional layer\n",
        "fc_layer_size = 256\n",
        "img_size = IMG_SIZE\n",
        "\n",
        "conv_inputs = keras.Input(shape=(img_size[1], img_size[0],3), name='ani_image')\n",
        "conv_layer = layers.Conv2D(128, kernel_size=3, activation='relu')(conv_inputs)\n",
        "conv_layer = layers.MaxPool2D(pool_size=(2,2))(conv_layer)\n",
        "\n",
        "conv_layer = layers.Conv2D(128, kernel_size=3, activation='relu')(conv_layer)\n",
        "conv_layer = layers.MaxPool2D(pool_size=(2,2))(conv_layer)\n",
        "\n",
        "conv_x = layers.Flatten(name = 'flattened_features')(conv_layer) #turn image to vector.\n",
        "\n",
        "conv_x = layers.Dense(fc_layer_size, activation='relu', name='first_layer')(conv_x)\n",
        "conv_x = layers.Dense(fc_layer_size, activation='relu', name='second_layer')(conv_x)\n",
        "conv_outputs = layers.Dense(1, activation='sigmoid', name='class')(conv_x)\n",
        "\n",
        "huge_conv_model = keras.Model(inputs=conv_inputs, outputs=conv_outputs)"
      ]
    },
    {
      "cell_type": "code",
      "execution_count": 13,
      "metadata": {
        "colab": {
          "base_uri": "https://localhost:8080/"
        },
        "id": "P3sxtmgBISPL",
        "outputId": "9fdf95c1-e6ea-41dc-d123-26133abd2535"
      },
      "outputs": [
        {
          "output_type": "stream",
          "name": "stderr",
          "text": [
            "WARNING:absl:`lr` is deprecated in Keras optimizer, please use `learning_rate` or use the legacy optimizer, e.g.,tf.keras.optimizers.legacy.Adam.\n"
          ]
        }
      ],
      "source": [
        "customAdam = keras.optimizers.Adam(lr=1e-6)\n",
        "huge_conv_model.compile(optimizer=customAdam,  # Optimizer\n",
        "              # Loss function to minimize\n",
        "              loss=\"binary_crossentropy\",\n",
        "              # List of metrics to monitor\n",
        "              metrics=[\"binary_crossentropy\",\"mean_squared_error\"])"
      ]
    },
    {
      "cell_type": "code",
      "execution_count": 14,
      "metadata": {
        "colab": {
          "base_uri": "https://localhost:8080/"
        },
        "id": "Hqqd8umEIcQE",
        "outputId": "1e4566a2-75c9-46ab-e6a0-c67091226dc2"
      },
      "outputs": [
        {
          "output_type": "stream",
          "name": "stdout",
          "text": [
            "Epoch 1/10\n",
            "500/500 [==============================] - 1565s 3s/step - loss: 4.3317 - binary_crossentropy: 4.3317 - mean_squared_error: 0.2548 - val_loss: 0.6930 - val_binary_crossentropy: 0.6930 - val_mean_squared_error: 0.2500\n",
            "Epoch 2/10\n",
            "500/500 [==============================] - 1531s 3s/step - loss: 0.6904 - binary_crossentropy: 0.6904 - mean_squared_error: 0.2484 - val_loss: 0.7053 - val_binary_crossentropy: 0.7053 - val_mean_squared_error: 0.2500\n",
            "Epoch 3/10\n",
            "500/500 [==============================] - 1541s 3s/step - loss: 0.6819 - binary_crossentropy: 0.6819 - mean_squared_error: 0.2444 - val_loss: 0.7095 - val_binary_crossentropy: 0.7095 - val_mean_squared_error: 0.2502\n",
            "Epoch 4/10\n",
            "500/500 [==============================] - 1541s 3s/step - loss: 0.6653 - binary_crossentropy: 0.6653 - mean_squared_error: 0.2375 - val_loss: 0.7721 - val_binary_crossentropy: 0.7721 - val_mean_squared_error: 0.2567\n",
            "Epoch 5/10\n",
            "500/500 [==============================] - 1529s 3s/step - loss: 0.6365 - binary_crossentropy: 0.6365 - mean_squared_error: 0.2260 - val_loss: 0.7994 - val_binary_crossentropy: 0.7994 - val_mean_squared_error: 0.2624\n",
            "Epoch 6/10\n",
            "500/500 [==============================] - 1545s 3s/step - loss: 0.6076 - binary_crossentropy: 0.6076 - mean_squared_error: 0.2145 - val_loss: 0.8791 - val_binary_crossentropy: 0.8791 - val_mean_squared_error: 0.2663\n",
            "Epoch 7/10\n",
            "500/500 [==============================] - 1590s 3s/step - loss: 0.5685 - binary_crossentropy: 0.5685 - mean_squared_error: 0.1992 - val_loss: 0.9966 - val_binary_crossentropy: 0.9966 - val_mean_squared_error: 0.2792\n",
            "Epoch 8/10\n",
            "500/500 [==============================] - 1591s 3s/step - loss: 0.5266 - binary_crossentropy: 0.5266 - mean_squared_error: 0.1833 - val_loss: 1.1815 - val_binary_crossentropy: 1.1815 - val_mean_squared_error: 0.2874\n",
            "Epoch 9/10\n",
            "500/500 [==============================] - 1659s 3s/step - loss: 0.4966 - binary_crossentropy: 0.4966 - mean_squared_error: 0.1718 - val_loss: 1.1082 - val_binary_crossentropy: 1.1082 - val_mean_squared_error: 0.2853\n",
            "Epoch 10/10\n",
            "500/500 [==============================] - 1634s 3s/step - loss: 0.4692 - binary_crossentropy: 0.4692 - mean_squared_error: 0.1627 - val_loss: 1.3393 - val_binary_crossentropy: 1.3393 - val_mean_squared_error: 0.3009\n"
          ]
        }
      ],
      "source": [
        "history = huge_conv_model.fit(x_train,\n",
        "                    labels_train,\n",
        "                    batch_size=32,\n",
        "                    shuffle = True, #important since we loaded cats first, dogs second.\n",
        "                    epochs=10,\n",
        "                    validation_data=(x_valid, labels_valid))"
      ]
    },
    {
      "cell_type": "code",
      "execution_count": 40,
      "metadata": {
        "id": "ycQYS2KE_8Cs",
        "colab": {
          "base_uri": "https://localhost:8080/"
        },
        "outputId": "08268fd1-2117-4648-a92c-11b1b14314c3"
      },
      "outputs": [
        {
          "output_type": "stream",
          "name": "stdout",
          "text": [
            "88/88 [==============================] - 62s 701ms/step\n"
          ]
        },
        {
          "output_type": "execute_result",
          "data": {
            "text/plain": [
              "array([[1.        , 0.05948638],\n",
              "       [0.05948638, 1.        ]])"
            ]
          },
          "metadata": {},
          "execution_count": 40
        }
      ],
      "source": [
        "preds = huge_conv_model.predict(x_valid)\n",
        "preds = np.asarray([pred[0] for pred in preds])\n",
        "np.corrcoef(preds, labels_valid)"
      ]
    },
    {
      "cell_type": "code",
      "execution_count": 17,
      "metadata": {
        "id": "qQorwHSYABOK",
        "colab": {
          "base_uri": "https://localhost:8080/"
        },
        "outputId": "156f8638-0695-4836-ee6c-2208efda5f99"
      },
      "outputs": [
        {
          "output_type": "stream",
          "name": "stdout",
          "text": [
            "0.52531976\n",
            "0.5100949\n",
            "0.54054457\n"
          ]
        }
      ],
      "source": [
        "print(preds.mean())\n",
        "print(preds[labels_valid == 0].mean())\n",
        "print(preds[labels_valid == 1].mean())"
      ]
    },
    {
      "cell_type": "code",
      "execution_count": 18,
      "metadata": {
        "id": "ndz_PqT_AEw8",
        "colab": {
          "base_uri": "https://localhost:8080/"
        },
        "outputId": "43891cdf-9dbd-49e1-cf15-9b493abe559d"
      },
      "outputs": [
        {
          "output_type": "stream",
          "name": "stdout",
          "text": [
            "threshold :0.1\n",
            "0.5029585798816568\n",
            "threshold :0.2\n",
            "0.5037037037037037\n",
            "threshold :0.30000000000000004\n",
            "0.5057373565660859\n",
            "threshold :0.4\n",
            "0.5055432372505543\n",
            "threshold :0.5\n",
            "0.5055050263283868\n",
            "threshold :0.6000000000000001\n",
            "0.5485799701046338\n",
            "threshold :0.7000000000000001\n",
            "0.5656934306569343\n",
            "threshold :0.8\n",
            "0.5857461024498887\n",
            "threshold :0.9\n",
            "0.585635359116022\n"
          ]
        }
      ],
      "source": [
        "cat_quantity = sum(labels_valid)\n",
        "\n",
        "for i in range(1,10):\n",
        "    print('threshold :'+str(.1*i))\n",
        "    print(sum(labels_valid[preds > .1*i])/labels_valid[preds > .1*i].shape[0])"
      ]
    },
    {
      "cell_type": "code",
      "execution_count": 38,
      "metadata": {
        "id": "okRQj8hUBN5E"
      },
      "outputs": [],
      "source": [
        "#\n",
        "def animal_pic(index):\n",
        "    return Image.fromarray(x_valid[index])\n",
        "def cat_index(index):\n",
        "    return huge_conv_model.predict(np.asarray([x_valid[index]]))[0][0]"
      ]
    },
    {
      "cell_type": "code",
      "execution_count": 35,
      "metadata": {
        "id": "lk_vTVEHBOpR",
        "colab": {
          "base_uri": "https://localhost:8080/"
        },
        "outputId": "7279976a-7554-4295-92be-685a0b955f2e"
      },
      "outputs": [
        {
          "output_type": "stream",
          "name": "stderr",
          "text": [
            "WARNING:absl:Found untraced functions such as _jit_compiled_convolution_op, _jit_compiled_convolution_op, _update_step_xla while saving (showing 3 of 3). These functions will not be directly callable after loading.\n"
          ]
        }
      ],
      "source": [
        "huge_conv_model.save('huge_conv_model')"
      ]
    },
    {
      "cell_type": "code",
      "source": [
        "big_model = keras.models.load_model('huge_conv_model')"
      ],
      "metadata": {
        "id": "O2WVHMjCdjXU"
      },
      "execution_count": 36,
      "outputs": []
    },
    {
      "cell_type": "code",
      "execution_count": 56,
      "metadata": {
        "id": "67JFZ8q-BS1J",
        "colab": {
          "base_uri": "https://localhost:8080/",
          "height": 177
        },
        "outputId": "be8d7ba0-a7ce-4ca1-b242-4d17e4eeb448"
      },
      "outputs": [
        {
          "output_type": "stream",
          "name": "stdout",
          "text": [
            "1/1 [==============================] - 0s 67ms/step\n",
            "probability of being a cat: 0.9541041254997253\n"
          ]
        },
        {
          "output_type": "execute_result",
          "data": {
            "text/plain": [
              "<PIL.Image.Image image mode=RGB size=94x125>"
            ],
            "image/png": "[encoded data removed]"
          },
          "metadata": {},
          "execution_count": 56
        }
      ],
      "source": [
        "index = 700\n",
        "print(\"probability of being a cat: {}\".format(cat_index(index)))\n",
        "animal_pic(index)"
      ]
    },
    {
      "cell_type": "code",
      "execution_count": 30,
      "metadata": {
        "id": "NxnJHw3YBV8I",
        "colab": {
          "base_uri": "https://localhost:8080/"
        },
        "outputId": "8bb93a19-5e0d-4a31-895b-0059d751cb1e"
      },
      "outputs": [
        {
          "output_type": "stream",
          "name": "stdout",
          "text": [
            "1/1 [==============================] - 0s 65ms/step\n"
          ]
        },
        {
          "output_type": "execute_result",
          "data": {
            "text/plain": [
              "0.00078580744"
            ]
          },
          "metadata": {},
          "execution_count": 30
        }
      ],
      "source": [
        "huge_conv_model.predict(np.asarray([x_valid[700]]))[0][0]"
      ]
    },
    {
      "cell_type": "code",
      "source": [
        "big_model = keras.models.load_model('huge_conv_model')"
      ],
      "metadata": {
        "id": "_p2oKsDscdA9"
      },
      "execution_count": 26,
      "outputs": []
    }
  ],
  "metadata": {
    "colab": {
      "provenance": [],
      "toc_visible": true
    },
    "kernelspec": {
      "display_name": "Python 3",
      "name": "python3"
    },
    "language_info": {
      "name": "python"
    }
  },
  "nbformat": 4,
  "nbformat_minor": 0
}